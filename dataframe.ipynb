{
 "cells": [
  {
   "cell_type": "code",
   "execution_count": 89,
   "metadata": {},
   "outputs": [],
   "source": [
    "import sqlite3\n",
    "import pandas as pd\n",
    "import numpy as np\n",
    "from random import choice\n",
    "from sql import *\n"
   ]
  },
  {
   "attachments": {},
   "cell_type": "markdown",
   "metadata": {},
   "source": [
    "Adding a single new Artist:"
   ]
  },
  {
   "cell_type": "code",
   "execution_count": 39,
   "metadata": {},
   "outputs": [
    {
     "data": {
      "text/plain": [
       "1"
      ]
     },
     "execution_count": 39,
     "metadata": {},
     "output_type": "execute_result"
    }
   ],
   "source": [
    "db = Chinook(\"chinook.db\")\n",
    "aId = db.addArtist(name=\"The Singer\")\n",
    "aId"
   ]
  },
  {
   "cell_type": "code",
   "execution_count": 40,
   "metadata": {},
   "outputs": [
    {
     "data": {
      "text/plain": [
       "Artist(ArtistId='1', Name='The Singer')"
      ]
     },
     "execution_count": 40,
     "metadata": {},
     "output_type": "execute_result"
    }
   ],
   "source": [
    "db.getArtist(aId) # this is the artist added"
   ]
  },
  {
   "attachments": {},
   "cell_type": "markdown",
   "metadata": {},
   "source": [
    "Adding more artists:"
   ]
  },
  {
   "cell_type": "code",
   "execution_count": 41,
   "metadata": {},
   "outputs": [],
   "source": [
    "firstNames = [\"John\", \"Johan\", \"Jan\", \"Ivan\"]\n",
    "lastNames = [\"Smith\", \"Kowalski\", \"Kovalsky\"]\n",
    "\n",
    "names = [0, 0, 0, 0, 0]\n",
    "for i in range(5):\n",
    "    n = choice(firstNames) + \" \" + choice(lastNames)\n",
    "    names[i] = n\n",
    "    db.addArtist(name=n)"
   ]
  },
  {
   "cell_type": "code",
   "execution_count": 42,
   "metadata": {},
   "outputs": [
    {
     "name": "stdout",
     "output_type": "stream",
     "text": [
      "Artist(ArtistId='1', Name='The Singer')\n",
      "Artist(ArtistId='2', Name='Jan Kovalsky')\n",
      "Artist(ArtistId='3', Name='Ivan Smith')\n",
      "Artist(ArtistId='4', Name='Johan Kovalsky')\n",
      "Artist(ArtistId='5', Name='Ivan Kowalski')\n"
     ]
    }
   ],
   "source": [
    "for a in db.allArtists()[-8:-1]:\n",
    "    print(a)"
   ]
  },
  {
   "attachments": {},
   "cell_type": "markdown",
   "metadata": {},
   "source": [
    "It is possible to access directly to the Name and Artist Id of such artists"
   ]
  },
  {
   "cell_type": "code",
   "execution_count": 43,
   "metadata": {},
   "outputs": [
    {
     "name": "stdout",
     "output_type": "stream",
     "text": [
      "1\n",
      "The Singer\n",
      "2\n",
      "Jan Kovalsky\n",
      "3\n",
      "Ivan Smith\n",
      "4\n",
      "Johan Kovalsky\n",
      "5\n",
      "Ivan Kowalski\n"
     ]
    }
   ],
   "source": [
    "for a in db.allArtists()[-8:-1]:\n",
    "    print(a.ArtistId)\n",
    "    print(a.Name)\n"
   ]
  },
  {
   "attachments": {},
   "cell_type": "markdown",
   "metadata": {},
   "source": [
    "Quering directly on the db file and converting it to pandas dataframe:"
   ]
  },
  {
   "cell_type": "code",
   "execution_count": 44,
   "metadata": {},
   "outputs": [
    {
     "data": {
      "text/html": [
       "<div>\n",
       "<style scoped>\n",
       "    .dataframe tbody tr th:only-of-type {\n",
       "        vertical-align: middle;\n",
       "    }\n",
       "\n",
       "    .dataframe tbody tr th {\n",
       "        vertical-align: top;\n",
       "    }\n",
       "\n",
       "    .dataframe thead th {\n",
       "        text-align: right;\n",
       "    }\n",
       "</style>\n",
       "<table border=\"1\" class=\"dataframe\">\n",
       "  <thead>\n",
       "    <tr style=\"text-align: right;\">\n",
       "      <th></th>\n",
       "      <th>TrackId</th>\n",
       "      <th>TrackName</th>\n",
       "      <th>AlbumId</th>\n",
       "      <th>AlbumTitle</th>\n",
       "      <th>ArtistName</th>\n",
       "    </tr>\n",
       "  </thead>\n",
       "  <tbody>\n",
       "  </tbody>\n",
       "</table>\n",
       "</div>"
      ],
      "text/plain": [
       "Empty DataFrame\n",
       "Columns: [TrackId, TrackName, AlbumId, AlbumTitle, ArtistName]\n",
       "Index: []"
      ]
     },
     "execution_count": 44,
     "metadata": {},
     "output_type": "execute_result"
    }
   ],
   "source": [
    "q = '''\n",
    "    SELECT\n",
    "        t.TrackId, t.Name AS TrackName, t.AlbumId,\n",
    "        a.Title AS AlbumTitle, \n",
    "        ar.Name AS ArtistName\n",
    "\n",
    "    FROM tracks t \n",
    "    INNER JOIN albums a ON t.AlbumId = a.AlbumId\n",
    "    INNER JOIN artists ar ON a.ArtistId = ar.ArtistId\n",
    "'''\n",
    "\n",
    "con = sqlite3.connect(\"chinook.db\")  # enable the connection with the database\n",
    "df = pd.read_sql_query(q, con)  # apply the query and import in Pandas\n",
    "df.head()"
   ]
  },
  {
   "cell_type": "code",
   "execution_count": 45,
   "metadata": {},
   "outputs": [
    {
     "data": {
      "text/plain": [
       "Series([], Name: TrackName, dtype: object)"
      ]
     },
     "execution_count": 45,
     "metadata": {},
     "output_type": "execute_result"
    }
   ],
   "source": [
    "df.TrackName[df.AlbumTitle == \"For Those About To Rock We Salute You\"]"
   ]
  },
  {
   "cell_type": "code",
   "execution_count": 46,
   "metadata": {},
   "outputs": [
    {
     "data": {
      "text/plain": [
       "Index(['TrackId', 'TrackName', 'AlbumId', 'AlbumTitle', 'ArtistName'], dtype='object')"
      ]
     },
     "execution_count": 46,
     "metadata": {},
     "output_type": "execute_result"
    }
   ],
   "source": [
    "df.columns"
   ]
  },
  {
   "cell_type": "code",
   "execution_count": 47,
   "metadata": {},
   "outputs": [
    {
     "data": {
      "text/html": [
       "<div>\n",
       "<style scoped>\n",
       "    .dataframe tbody tr th:only-of-type {\n",
       "        vertical-align: middle;\n",
       "    }\n",
       "\n",
       "    .dataframe tbody tr th {\n",
       "        vertical-align: top;\n",
       "    }\n",
       "\n",
       "    .dataframe thead th {\n",
       "        text-align: right;\n",
       "    }\n",
       "</style>\n",
       "<table border=\"1\" class=\"dataframe\">\n",
       "  <thead>\n",
       "    <tr style=\"text-align: right;\">\n",
       "      <th></th>\n",
       "      <th>TrackName</th>\n",
       "      <th>ArtistName</th>\n",
       "      <th>AlbumTitle</th>\n",
       "    </tr>\n",
       "  </thead>\n",
       "  <tbody>\n",
       "  </tbody>\n",
       "</table>\n",
       "</div>"
      ],
      "text/plain": [
       "Empty DataFrame\n",
       "Columns: [TrackName, ArtistName, AlbumTitle]\n",
       "Index: []"
      ]
     },
     "execution_count": 47,
     "metadata": {},
     "output_type": "execute_result"
    }
   ],
   "source": [
    "df[df.AlbumTitle == \"For Those About To Rock We Salute You\"][[\"TrackName\", \"ArtistName\", \"AlbumTitle\"]]"
   ]
  },
  {
   "attachments": {},
   "cell_type": "markdown",
   "metadata": {},
   "source": [
    "Importing new data from a CSV file:"
   ]
  },
  {
   "cell_type": "code",
   "execution_count": 90,
   "metadata": {},
   "outputs": [
    {
     "data": {
      "text/html": [
       "<div>\n",
       "<style scoped>\n",
       "    .dataframe tbody tr th:only-of-type {\n",
       "        vertical-align: middle;\n",
       "    }\n",
       "\n",
       "    .dataframe tbody tr th {\n",
       "        vertical-align: top;\n",
       "    }\n",
       "\n",
       "    .dataframe thead th {\n",
       "        text-align: right;\n",
       "    }\n",
       "</style>\n",
       "<table border=\"1\" class=\"dataframe\">\n",
       "  <thead>\n",
       "    <tr style=\"text-align: right;\">\n",
       "      <th></th>\n",
       "      <th>SongNumber</th>\n",
       "      <th>SongID</th>\n",
       "      <th>AlbumID</th>\n",
       "      <th>AlbumName</th>\n",
       "      <th>ArtistID</th>\n",
       "      <th>ArtistLatitude</th>\n",
       "      <th>ArtistLocation</th>\n",
       "      <th>ArtistLongitude</th>\n",
       "      <th>ArtistName</th>\n",
       "      <th>Danceability</th>\n",
       "      <th>Duration</th>\n",
       "      <th>KeySignature</th>\n",
       "      <th>KeySignatureConfidence</th>\n",
       "      <th>Tempo</th>\n",
       "      <th>TimeSignature</th>\n",
       "      <th>TimeSignatureConfidence</th>\n",
       "      <th>Title</th>\n",
       "      <th>Year</th>\n",
       "    </tr>\n",
       "  </thead>\n",
       "  <tbody>\n",
       "    <tr>\n",
       "      <th>0</th>\n",
       "      <td>1</td>\n",
       "      <td>b'SOVLGJY12A8C13FBED'</td>\n",
       "      <td>223563</td>\n",
       "      <td>b'Call of the Mastodon'</td>\n",
       "      <td>b'ARMQHX71187B9890D3'</td>\n",
       "      <td>NaN</td>\n",
       "      <td>b'Atlanta GA'</td>\n",
       "      <td>NaN</td>\n",
       "      <td>b'Mastodon'</td>\n",
       "      <td>0.0</td>\n",
       "      <td>280.21506</td>\n",
       "      <td>5</td>\n",
       "      <td>0.555</td>\n",
       "      <td>173.205</td>\n",
       "      <td>5</td>\n",
       "      <td>0.120</td>\n",
       "      <td>b'Deep Sea Creature'</td>\n",
       "      <td>2001</td>\n",
       "    </tr>\n",
       "    <tr>\n",
       "      <th>1</th>\n",
       "      <td>2</td>\n",
       "      <td>b'SOMZWCG12A8C13C480'</td>\n",
       "      <td>300848</td>\n",
       "      <td>b'Fear Itself'</td>\n",
       "      <td>b'ARD7TVE1187B99BFB1'</td>\n",
       "      <td>NaN</td>\n",
       "      <td>b'California - LA'</td>\n",
       "      <td>NaN</td>\n",
       "      <td>b'Casual'</td>\n",
       "      <td>0.0</td>\n",
       "      <td>218.93179</td>\n",
       "      <td>1</td>\n",
       "      <td>0.736</td>\n",
       "      <td>92.198</td>\n",
       "      <td>4</td>\n",
       "      <td>0.778</td>\n",
       "      <td>bI Didn't Mean To\"\"</td>\n",
       "      <td>0</td>\n",
       "    </tr>\n",
       "    <tr>\n",
       "      <th>2</th>\n",
       "      <td>3</td>\n",
       "      <td>b'SOCIWDW12A8C13D406'</td>\n",
       "      <td>300822</td>\n",
       "      <td>b'Dimensions'</td>\n",
       "      <td>b'ARMJAGH1187FB546F3'</td>\n",
       "      <td>35.14968</td>\n",
       "      <td>b'Memphis TN'</td>\n",
       "      <td>-90.04892</td>\n",
       "      <td>b'The Box Tops'</td>\n",
       "      <td>0.0</td>\n",
       "      <td>148.03546</td>\n",
       "      <td>6</td>\n",
       "      <td>0.169</td>\n",
       "      <td>121.274</td>\n",
       "      <td>4</td>\n",
       "      <td>0.384</td>\n",
       "      <td>b'Soul Deep'</td>\n",
       "      <td>1969</td>\n",
       "    </tr>\n",
       "    <tr>\n",
       "      <th>3</th>\n",
       "      <td>4</td>\n",
       "      <td>b'SOXVLOJ12AB0189215'</td>\n",
       "      <td>514953</td>\n",
       "      <td>b'Las Numero 1 De La Sonora Santanera'</td>\n",
       "      <td>b'ARKRRTF1187B9984DA'</td>\n",
       "      <td>NaN</td>\n",
       "      <td>b''</td>\n",
       "      <td>NaN</td>\n",
       "      <td>b'Sonora Santanera'</td>\n",
       "      <td>0.0</td>\n",
       "      <td>177.47546</td>\n",
       "      <td>8</td>\n",
       "      <td>0.643</td>\n",
       "      <td>100.070</td>\n",
       "      <td>1</td>\n",
       "      <td>0.000</td>\n",
       "      <td>b'Amor De Cabaret'</td>\n",
       "      <td>0</td>\n",
       "    </tr>\n",
       "    <tr>\n",
       "      <th>4</th>\n",
       "      <td>5</td>\n",
       "      <td>b'SONHOTT12A8C13493C'</td>\n",
       "      <td>287650</td>\n",
       "      <td>b'Friend Or Foe'</td>\n",
       "      <td>b'AR7G5I41187FB4CE6C'</td>\n",
       "      <td>NaN</td>\n",
       "      <td>b'London England'</td>\n",
       "      <td>NaN</td>\n",
       "      <td>b'Adam Ant'</td>\n",
       "      <td>0.0</td>\n",
       "      <td>233.40363</td>\n",
       "      <td>0</td>\n",
       "      <td>0.751</td>\n",
       "      <td>119.293</td>\n",
       "      <td>4</td>\n",
       "      <td>0.000</td>\n",
       "      <td>b'Something Girls'</td>\n",
       "      <td>1982</td>\n",
       "    </tr>\n",
       "  </tbody>\n",
       "</table>\n",
       "</div>"
      ],
      "text/plain": [
       "   SongNumber                 SongID  AlbumID  \\\n",
       "0           1  b'SOVLGJY12A8C13FBED'   223563   \n",
       "1           2  b'SOMZWCG12A8C13C480'   300848   \n",
       "2           3  b'SOCIWDW12A8C13D406'   300822   \n",
       "3           4  b'SOXVLOJ12AB0189215'   514953   \n",
       "4           5  b'SONHOTT12A8C13493C'   287650   \n",
       "\n",
       "                                AlbumName               ArtistID  \\\n",
       "0                 b'Call of the Mastodon'  b'ARMQHX71187B9890D3'   \n",
       "1                          b'Fear Itself'  b'ARD7TVE1187B99BFB1'   \n",
       "2                           b'Dimensions'  b'ARMJAGH1187FB546F3'   \n",
       "3  b'Las Numero 1 De La Sonora Santanera'  b'ARKRRTF1187B9984DA'   \n",
       "4                        b'Friend Or Foe'  b'AR7G5I41187FB4CE6C'   \n",
       "\n",
       "   ArtistLatitude      ArtistLocation  ArtistLongitude           ArtistName  \\\n",
       "0             NaN       b'Atlanta GA'              NaN          b'Mastodon'   \n",
       "1             NaN  b'California - LA'              NaN            b'Casual'   \n",
       "2        35.14968       b'Memphis TN'        -90.04892      b'The Box Tops'   \n",
       "3             NaN                 b''              NaN  b'Sonora Santanera'   \n",
       "4             NaN   b'London England'              NaN          b'Adam Ant'   \n",
       "\n",
       "   Danceability   Duration  KeySignature  KeySignatureConfidence    Tempo  \\\n",
       "0           0.0  280.21506             5                   0.555  173.205   \n",
       "1           0.0  218.93179             1                   0.736   92.198   \n",
       "2           0.0  148.03546             6                   0.169  121.274   \n",
       "3           0.0  177.47546             8                   0.643  100.070   \n",
       "4           0.0  233.40363             0                   0.751  119.293   \n",
       "\n",
       "   TimeSignature  TimeSignatureConfidence                 Title  Year  \n",
       "0              5                    0.120  b'Deep Sea Creature'  2001  \n",
       "1              4                    0.778   bI Didn't Mean To\"\"     0  \n",
       "2              4                    0.384          b'Soul Deep'  1969  \n",
       "3              1                    0.000    b'Amor De Cabaret'     0  \n",
       "4              4                    0.000    b'Something Girls'  1982  "
      ]
     },
     "execution_count": 90,
     "metadata": {},
     "output_type": "execute_result"
    }
   ],
   "source": [
    "df_new = pd.read_csv(\"https://raw.githubusercontent.com/mahkaila/songnames/master/SongCSV.csv\")\n",
    "df_new.head()"
   ]
  },
  {
   "cell_type": "code",
   "execution_count": 91,
   "metadata": {},
   "outputs": [
    {
     "data": {
      "text/html": [
       "<div>\n",
       "<style scoped>\n",
       "    .dataframe tbody tr th:only-of-type {\n",
       "        vertical-align: middle;\n",
       "    }\n",
       "\n",
       "    .dataframe tbody tr th {\n",
       "        vertical-align: top;\n",
       "    }\n",
       "\n",
       "    .dataframe thead th {\n",
       "        text-align: right;\n",
       "    }\n",
       "</style>\n",
       "<table border=\"1\" class=\"dataframe\">\n",
       "  <thead>\n",
       "    <tr style=\"text-align: right;\">\n",
       "      <th></th>\n",
       "      <th>ArtistName</th>\n",
       "      <th>AlbumName</th>\n",
       "      <th>Title</th>\n",
       "    </tr>\n",
       "  </thead>\n",
       "  <tbody>\n",
       "    <tr>\n",
       "      <th>0</th>\n",
       "      <td>Mastodon</td>\n",
       "      <td>Call of the Mastodon</td>\n",
       "      <td>Deep Sea Creature</td>\n",
       "    </tr>\n",
       "    <tr>\n",
       "      <th>1</th>\n",
       "      <td>Casual</td>\n",
       "      <td>Fear Itself</td>\n",
       "      <td>Didn't Mean To\"</td>\n",
       "    </tr>\n",
       "    <tr>\n",
       "      <th>2</th>\n",
       "      <td>The Box Tops</td>\n",
       "      <td>Dimensions</td>\n",
       "      <td>Soul Deep</td>\n",
       "    </tr>\n",
       "    <tr>\n",
       "      <th>3</th>\n",
       "      <td>Sonora Santanera</td>\n",
       "      <td>Las Numero 1 De La Sonora Santanera</td>\n",
       "      <td>Amor De Cabaret</td>\n",
       "    </tr>\n",
       "    <tr>\n",
       "      <th>4</th>\n",
       "      <td>Adam Ant</td>\n",
       "      <td>Friend Or Foe</td>\n",
       "      <td>Something Girls</td>\n",
       "    </tr>\n",
       "  </tbody>\n",
       "</table>\n",
       "</div>"
      ],
      "text/plain": [
       "         ArtistName                            AlbumName              Title\n",
       "0          Mastodon                 Call of the Mastodon  Deep Sea Creature\n",
       "1            Casual                          Fear Itself    Didn't Mean To\"\n",
       "2      The Box Tops                           Dimensions          Soul Deep\n",
       "3  Sonora Santanera  Las Numero 1 De La Sonora Santanera    Amor De Cabaret\n",
       "4          Adam Ant                        Friend Or Foe    Something Girls"
      ]
     },
     "execution_count": 91,
     "metadata": {},
     "output_type": "execute_result"
    }
   ],
   "source": [
    "# add Artist method:\n",
    "# ArtistId FK added automatically\n",
    "df_new[\"ArtistName\"] = df_new[\"ArtistName\"].str[2:-1] # Name in artists table\n",
    "\n",
    "# add Album \n",
    "# AlbumId FK added automatically\n",
    "# ArtistId FK as input\n",
    "df_new[\"AlbumName\"] = df_new[\"AlbumName\"].str[2:-1]  # Title in albums table\n",
    "\n",
    "# add Track\n",
    "# TrackId FK added automatically\n",
    "# AlbumId FK as input\n",
    "df_new[\"Title\"] = df_new[\"Title\"].str[2:-1]  # Title in tracks table\n",
    "\n",
    "df_new = df_new[[\"ArtistName\", \"AlbumName\", \"Title\"]]\n",
    "df_new.head()"
   ]
  },
  {
   "cell_type": "code",
   "execution_count": 92,
   "metadata": {},
   "outputs": [
    {
     "data": {
      "text/html": [
       "<div>\n",
       "<style scoped>\n",
       "    .dataframe tbody tr th:only-of-type {\n",
       "        vertical-align: middle;\n",
       "    }\n",
       "\n",
       "    .dataframe tbody tr th {\n",
       "        vertical-align: top;\n",
       "    }\n",
       "\n",
       "    .dataframe thead th {\n",
       "        text-align: right;\n",
       "    }\n",
       "</style>\n",
       "<table border=\"1\" class=\"dataframe\">\n",
       "  <thead>\n",
       "    <tr style=\"text-align: right;\">\n",
       "      <th></th>\n",
       "      <th>ArtistName</th>\n",
       "      <th>AlbumName</th>\n",
       "      <th>Title</th>\n",
       "    </tr>\n",
       "  </thead>\n",
       "  <tbody>\n",
       "    <tr>\n",
       "      <th>9996</th>\n",
       "      <td>Moonspell</td>\n",
       "      <td>Sin / Pecado</td>\n",
       "      <td>The Hanged Man</td>\n",
       "    </tr>\n",
       "    <tr>\n",
       "      <th>9997</th>\n",
       "      <td>Danny Williams</td>\n",
       "      <td>Collection</td>\n",
       "      <td>The Wonderful World Of The Young</td>\n",
       "    </tr>\n",
       "    <tr>\n",
       "      <th>9998</th>\n",
       "      <td>Winston Reedy</td>\n",
       "      <td>Reality</td>\n",
       "      <td>Sentimental Man</td>\n",
       "    </tr>\n",
       "    <tr>\n",
       "      <th>9999</th>\n",
       "      <td>Myrick Freeze\" Guillory'</td>\n",
       "      <td>Nouveau Zydeco</td>\n",
       "      <td>Zydeco In D-Minor</td>\n",
       "    </tr>\n",
       "    <tr>\n",
       "      <th>10000</th>\n",
       "      <td>Seventh Day Slumber</td>\n",
       "      <td>Once Upon A Shattered Life</td>\n",
       "      <td>Shattered Life</td>\n",
       "    </tr>\n",
       "  </tbody>\n",
       "</table>\n",
       "</div>"
      ],
      "text/plain": [
       "                     ArtistName                   AlbumName  \\\n",
       "9996                  Moonspell                Sin / Pecado   \n",
       "9997             Danny Williams                  Collection   \n",
       "9998              Winston Reedy                     Reality   \n",
       "9999   Myrick Freeze\" Guillory'              Nouveau Zydeco   \n",
       "10000       Seventh Day Slumber  Once Upon A Shattered Life   \n",
       "\n",
       "                                  Title  \n",
       "9996                     The Hanged Man  \n",
       "9997   The Wonderful World Of The Young  \n",
       "9998                    Sentimental Man  \n",
       "9999                  Zydeco In D-Minor  \n",
       "10000                    Shattered Life  "
      ]
     },
     "execution_count": 92,
     "metadata": {},
     "output_type": "execute_result"
    }
   ],
   "source": [
    "df_new.tail()"
   ]
  },
  {
   "cell_type": "code",
   "execution_count": 51,
   "metadata": {},
   "outputs": [
    {
     "data": {
      "text/html": [
       "<div>\n",
       "<style scoped>\n",
       "    .dataframe tbody tr th:only-of-type {\n",
       "        vertical-align: middle;\n",
       "    }\n",
       "\n",
       "    .dataframe tbody tr th {\n",
       "        vertical-align: top;\n",
       "    }\n",
       "\n",
       "    .dataframe thead th {\n",
       "        text-align: right;\n",
       "    }\n",
       "</style>\n",
       "<table border=\"1\" class=\"dataframe\">\n",
       "  <thead>\n",
       "    <tr style=\"text-align: right;\">\n",
       "      <th></th>\n",
       "      <th>ArtistName</th>\n",
       "      <th>AlbumName</th>\n",
       "      <th>Title</th>\n",
       "    </tr>\n",
       "  </thead>\n",
       "  <tbody>\n",
       "    <tr>\n",
       "      <th>1484</th>\n",
       "      <td>Moonspell</td>\n",
       "      <td>The Butterfly Effect</td>\n",
       "      <td>Tired</td>\n",
       "    </tr>\n",
       "    <tr>\n",
       "      <th>3928</th>\n",
       "      <td>Moonspell</td>\n",
       "      <td>Second Skin</td>\n",
       "      <td>Sacred</td>\n",
       "    </tr>\n",
       "    <tr>\n",
       "      <th>5989</th>\n",
       "      <td>Moonspell</td>\n",
       "      <td>Wolfheart (re-issue + Bonus Tracks)</td>\n",
       "      <td>Alma Mater</td>\n",
       "    </tr>\n",
       "    <tr>\n",
       "      <th>6245</th>\n",
       "      <td>Moonspell</td>\n",
       "      <td>Wolfheart (re-issue + Bonus Tracks)</td>\n",
       "      <td>Trebraruna</td>\n",
       "    </tr>\n",
       "    <tr>\n",
       "      <th>9996</th>\n",
       "      <td>Moonspell</td>\n",
       "      <td>Sin / Pecado</td>\n",
       "      <td>The Hanged Man</td>\n",
       "    </tr>\n",
       "  </tbody>\n",
       "</table>\n",
       "</div>"
      ],
      "text/plain": [
       "     ArtistName                            AlbumName           Title\n",
       "1484  Moonspell                 The Butterfly Effect           Tired\n",
       "3928  Moonspell                          Second Skin          Sacred\n",
       "5989  Moonspell  Wolfheart (re-issue + Bonus Tracks)      Alma Mater\n",
       "6245  Moonspell  Wolfheart (re-issue + Bonus Tracks)      Trebraruna\n",
       "9996  Moonspell                         Sin / Pecado  The Hanged Man"
      ]
     },
     "execution_count": 51,
     "metadata": {},
     "output_type": "execute_result"
    }
   ],
   "source": [
    "df_new[df_new[\"ArtistName\"]  == \"Moonspell\"]"
   ]
  },
  {
   "cell_type": "code",
   "execution_count": 52,
   "metadata": {},
   "outputs": [
    {
     "data": {
      "text/plain": [
       "7"
      ]
     },
     "execution_count": 52,
     "metadata": {},
     "output_type": "execute_result"
    }
   ],
   "source": [
    "db.addArtist(name = \"Moonspell\")"
   ]
  },
  {
   "cell_type": "code",
   "execution_count": 53,
   "metadata": {},
   "outputs": [
    {
     "data": {
      "text/plain": [
       "Artist(ArtistId='7', Name='Moonspell')"
      ]
     },
     "execution_count": 53,
     "metadata": {},
     "output_type": "execute_result"
    }
   ],
   "source": [
    "db.getArtist(artistId = 7)"
   ]
  },
  {
   "cell_type": "code",
   "execution_count": 54,
   "metadata": {},
   "outputs": [
    {
     "data": {
      "text/plain": [
       "1"
      ]
     },
     "execution_count": 54,
     "metadata": {},
     "output_type": "execute_result"
    }
   ],
   "source": [
    "db.addAlbum(title = \"Wolfheart (re-issue + Bonus Tracks)\", artistId = 7)"
   ]
  },
  {
   "cell_type": "code",
   "execution_count": 55,
   "metadata": {},
   "outputs": [
    {
     "data": {
      "text/plain": [
       "1"
      ]
     },
     "execution_count": 55,
     "metadata": {},
     "output_type": "execute_result"
    }
   ],
   "source": [
    "db.addTrack(name= \"Alma Mater\", albumId = 1)"
   ]
  },
  {
   "cell_type": "code",
   "execution_count": 56,
   "metadata": {},
   "outputs": [
    {
     "data": {
      "text/plain": [
       "2"
      ]
     },
     "execution_count": 56,
     "metadata": {},
     "output_type": "execute_result"
    }
   ],
   "source": [
    "db.addTrack(name = \"Trebraruna\", albumId = 1)"
   ]
  },
  {
   "attachments": {},
   "cell_type": "markdown",
   "metadata": {},
   "source": [
    "In this part, I am able to put on the database all the data from the new_dataset! \n",
    "\n",
    "It would be important to avoid using inner loops in order to "
   ]
  },
  {
   "cell_type": "code",
   "execution_count": 96,
   "metadata": {},
   "outputs": [],
   "source": [
    "db = Chinook(\"chinook.db\")"
   ]
  },
  {
   "cell_type": "code",
   "execution_count": 8,
   "metadata": {},
   "outputs": [
    {
     "data": {
      "text/plain": [
       "'1.4.32'"
      ]
     },
     "execution_count": 8,
     "metadata": {},
     "output_type": "execute_result"
    }
   ],
   "source": [
    "import sqlalchemy\n",
    "sqlalchemy.__version__"
   ]
  },
  {
   "cell_type": "code",
   "execution_count": 97,
   "metadata": {},
   "outputs": [],
   "source": [
    "artists = df_new[\"ArtistName\"].unique()\n",
    "\n",
    "for artist in artists:\n",
    "    artistId = db.addArtist(name = artist) # add all unique artists to the database\n",
    "    albums = df_new[df_new[\"ArtistName\"] == artist][\"AlbumName\"].unique()\n",
    "    \n",
    "    for album in albums:\n",
    "        albumId = db.addAlbum(title = album, artistId = artistId)\n",
    "        tracks = df_new[(df_new[\"ArtistName\"] == artist) & (df_new[\"AlbumName\"] == album)][\"Title\"].unique()\n",
    "        \n",
    "        for track in tracks:\n",
    "            trackId = db.addTrack(name = track, albumId = albumId)"
   ]
  },
  {
   "cell_type": "code",
   "execution_count": 146,
   "metadata": {},
   "outputs": [
    {
     "data": {
      "text/plain": [
       "array(None, dtype=object)"
      ]
     },
     "execution_count": 146,
     "metadata": {},
     "output_type": "execute_result"
    }
   ],
   "source": [
    "df_artists = pd.DataFrame()\n",
    "df_artists[\"artists\"] = df_new[\"ArtistName\"].unique()\n",
    "df_artists[\"Id\"] = np.arange(1, len(df_artists[\"artists\"])+1, 1)\n",
    "df_artists.head()\n",
    "\n",
    "df_albums = pd.DataFrame()\n",
    "df_albums[\"albums\"] = df_new[\"AlbumName\"].unique()\n",
    "df_albums[\"artistId\"] = None # find a way to put the artistId\n",
    "\n",
    "df_tracks = pd.DataFrame()\n",
    "df_tracks[\"tracks\"] = df_new[\"Title\"].unique()\n",
    "df_tracks[\"albumId\"] = None # find a way to puy albumId\n",
    "\n",
    "tot_albums = np.array(None)\n",
    "tot_tracks = np.array(None)\n",
    "for artist in artists:\n",
    "    albums = df_new[df_new[\"ArtistName\"] == artist][\"AlbumName\"].unique()\n",
    "    np.append([tot_albums], [albums])\n",
    "    \n",
    "    for album in albums:\n",
    "        tracks = df_new[(df_new[\"ArtistName\"] == artist) & (df_new[\"AlbumName\"] == album)][\"Title\"].unique()\n",
    "        np.append([tot_tracks], [tracks])\n",
    "\n",
    "#print(len(tot_albums), len(tot_tracks))  \n",
    "tot_albums\n"
   ]
  },
  {
   "cell_type": "code",
   "execution_count": 140,
   "metadata": {},
   "outputs": [
    {
     "data": {
      "text/plain": [
       "Index(['ArtistName', 'AlbumName', 'Title'], dtype='object')"
      ]
     },
     "execution_count": 140,
     "metadata": {},
     "output_type": "execute_result"
    }
   ],
   "source": [
    "df_new.columns"
   ]
  },
  {
   "cell_type": "code",
   "execution_count": 134,
   "metadata": {},
   "outputs": [],
   "source": [
    "by_artist = df_new.groupby(\"ArtistName\").sum()\n",
    "by_album = df_new.groupby(\"AlbumName\").sum()\n",
    "by_track = df_new.groupby(\"Title\").sum()\n"
   ]
  },
  {
   "attachments": {},
   "cell_type": "markdown",
   "metadata": {},
   "source": [
    "Accessing to all the albums, with each element being a class with AlbumId, Title, ArtistId  "
   ]
  },
  {
   "cell_type": "code",
   "execution_count": 115,
   "metadata": {},
   "outputs": [
    {
     "ename": "DetachedInstanceError",
     "evalue": "Parent instance <Album at 0x148f7bb80> is not bound to a Session; lazy load operation of attribute 'tracks' cannot proceed (Background on this error at: https://sqlalche.me/e/14/bhk3)",
     "output_type": "error",
     "traceback": [
      "\u001b[0;31m---------------------------------------------------------------------------\u001b[0m",
      "\u001b[0;31mDetachedInstanceError\u001b[0m                     Traceback (most recent call last)",
      "\u001b[1;32m/Users/matteorossi/Desktop/Python_projects/SQL_python/dataframe.ipynb Cell 31\u001b[0m in \u001b[0;36m<cell line: 3>\u001b[0;34m()\u001b[0m\n\u001b[1;32m      <a href='vscode-notebook-cell:/Users/matteorossi/Desktop/Python_projects/SQL_python/dataframe.ipynb#X40sZmlsZQ%3D%3D?line=0'>1</a>\u001b[0m albums \u001b[39m=\u001b[39m db\u001b[39m.\u001b[39mallAlbums()\n\u001b[1;32m      <a href='vscode-notebook-cell:/Users/matteorossi/Desktop/Python_projects/SQL_python/dataframe.ipynb#X40sZmlsZQ%3D%3D?line=1'>2</a>\u001b[0m album \u001b[39m=\u001b[39m albums[\u001b[39m3\u001b[39m] \n\u001b[0;32m----> <a href='vscode-notebook-cell:/Users/matteorossi/Desktop/Python_projects/SQL_python/dataframe.ipynb#X40sZmlsZQ%3D%3D?line=2'>3</a>\u001b[0m album\u001b[39m.\u001b[39;49mtracks\n",
      "File \u001b[0;32m~/data_science/env/lib/python3.8/site-packages/sqlalchemy/orm/attributes.py:481\u001b[0m, in \u001b[0;36mInstrumentedAttribute.__get__\u001b[0;34m(self, instance, owner)\u001b[0m\n\u001b[1;32m    476\u001b[0m \u001b[39mexcept\u001b[39;00m \u001b[39mAttributeError\u001b[39;00m \u001b[39mas\u001b[39;00m err:\n\u001b[1;32m    477\u001b[0m     util\u001b[39m.\u001b[39mraise_(\n\u001b[1;32m    478\u001b[0m         orm_exc\u001b[39m.\u001b[39mUnmappedInstanceError(instance),\n\u001b[1;32m    479\u001b[0m         replace_context\u001b[39m=\u001b[39merr,\n\u001b[1;32m    480\u001b[0m     )\n\u001b[0;32m--> 481\u001b[0m \u001b[39mreturn\u001b[39;00m \u001b[39mself\u001b[39;49m\u001b[39m.\u001b[39;49mimpl\u001b[39m.\u001b[39;49mget(state, dict_)\n",
      "File \u001b[0;32m~/data_science/env/lib/python3.8/site-packages/sqlalchemy/orm/attributes.py:941\u001b[0m, in \u001b[0;36mAttributeImpl.get\u001b[0;34m(self, state, dict_, passive)\u001b[0m\n\u001b[1;32m    938\u001b[0m \u001b[39mif\u001b[39;00m \u001b[39mnot\u001b[39;00m passive \u001b[39m&\u001b[39m CALLABLES_OK:\n\u001b[1;32m    939\u001b[0m     \u001b[39mreturn\u001b[39;00m PASSIVE_NO_RESULT\n\u001b[0;32m--> 941\u001b[0m value \u001b[39m=\u001b[39m \u001b[39mself\u001b[39;49m\u001b[39m.\u001b[39;49m_fire_loader_callables(state, key, passive)\n\u001b[1;32m    943\u001b[0m \u001b[39mif\u001b[39;00m value \u001b[39mis\u001b[39;00m PASSIVE_NO_RESULT \u001b[39mor\u001b[39;00m value \u001b[39mis\u001b[39;00m NO_VALUE:\n\u001b[1;32m    944\u001b[0m     \u001b[39mreturn\u001b[39;00m value\n",
      "File \u001b[0;32m~/data_science/env/lib/python3.8/site-packages/sqlalchemy/orm/attributes.py:977\u001b[0m, in \u001b[0;36mAttributeImpl._fire_loader_callables\u001b[0;34m(self, state, key, passive)\u001b[0m\n\u001b[1;32m    975\u001b[0m     \u001b[39mreturn\u001b[39;00m callable_(state, passive)\n\u001b[1;32m    976\u001b[0m \u001b[39melif\u001b[39;00m \u001b[39mself\u001b[39m\u001b[39m.\u001b[39mcallable_:\n\u001b[0;32m--> 977\u001b[0m     \u001b[39mreturn\u001b[39;00m \u001b[39mself\u001b[39;49m\u001b[39m.\u001b[39;49mcallable_(state, passive)\n\u001b[1;32m    978\u001b[0m \u001b[39melse\u001b[39;00m:\n\u001b[1;32m    979\u001b[0m     \u001b[39mreturn\u001b[39;00m ATTR_EMPTY\n",
      "File \u001b[0;32m~/data_science/env/lib/python3.8/site-packages/sqlalchemy/orm/strategies.py:862\u001b[0m, in \u001b[0;36mLazyLoader._load_for_state\u001b[0;34m(self, state, passive, loadopt, extra_criteria)\u001b[0m\n\u001b[1;32m    859\u001b[0m     \u001b[39mif\u001b[39;00m passive \u001b[39m&\u001b[39m attributes\u001b[39m.\u001b[39mNO_RAISE:\n\u001b[1;32m    860\u001b[0m         \u001b[39mreturn\u001b[39;00m attributes\u001b[39m.\u001b[39mPASSIVE_NO_RESULT\n\u001b[0;32m--> 862\u001b[0m     \u001b[39mraise\u001b[39;00m orm_exc\u001b[39m.\u001b[39mDetachedInstanceError(\n\u001b[1;32m    863\u001b[0m         \u001b[39m\"\u001b[39m\u001b[39mParent instance \u001b[39m\u001b[39m%s\u001b[39;00m\u001b[39m is not bound to a Session; \u001b[39m\u001b[39m\"\u001b[39m\n\u001b[1;32m    864\u001b[0m         \u001b[39m\"\u001b[39m\u001b[39mlazy load operation of attribute \u001b[39m\u001b[39m'\u001b[39m\u001b[39m%s\u001b[39;00m\u001b[39m'\u001b[39m\u001b[39m cannot proceed\u001b[39m\u001b[39m\"\u001b[39m\n\u001b[1;32m    865\u001b[0m         \u001b[39m%\u001b[39m (orm_util\u001b[39m.\u001b[39mstate_str(state), \u001b[39mself\u001b[39m\u001b[39m.\u001b[39mkey)\n\u001b[1;32m    866\u001b[0m     )\n\u001b[1;32m    868\u001b[0m \u001b[39m# if we have a simple primary key load, check the\u001b[39;00m\n\u001b[1;32m    869\u001b[0m \u001b[39m# identity map without generating a Query at all\u001b[39;00m\n\u001b[1;32m    870\u001b[0m \u001b[39mif\u001b[39;00m use_get:\n",
      "\u001b[0;31mDetachedInstanceError\u001b[0m: Parent instance <Album at 0x148f7bb80> is not bound to a Session; lazy load operation of attribute 'tracks' cannot proceed (Background on this error at: https://sqlalche.me/e/14/bhk3)"
     ]
    }
   ],
   "source": [
    "albums = db.allAlbums()\n",
    "album = albums[3] \n",
    "#album.tracks"
   ]
  },
  {
   "cell_type": "code",
   "execution_count": 113,
   "metadata": {},
   "outputs": [
    {
     "name": "stdout",
     "output_type": "stream",
     "text": [
      "['4' 'Megalodon' '3']\n"
     ]
    }
   ],
   "source": [
    "tracks = db.allTracks()\n",
    "track = tracks[3]\n",
    "print(np.array([track.TrackId, track.Name, track.AlbumId]))"
   ]
  },
  {
   "cell_type": "code",
   "execution_count": 88,
   "metadata": {},
   "outputs": [
    {
     "data": {
      "text/plain": [
       "array(['The Czar: Usurper/Escape/Martyr/Spiral (Album Version)'],\n",
       "      dtype=object)"
      ]
     },
     "execution_count": 88,
     "metadata": {},
     "output_type": "execute_result"
    }
   ],
   "source": [
    "artist = \"Mastodon\"\n",
    "\n",
    "album = \"Crack The Skye\"\n",
    "df_new[(df_new[\"ArtistName\"] == artist) & (df_new[\"AlbumName\"] == album)][\"Title\"].unique()"
   ]
  },
  {
   "cell_type": "code",
   "execution_count": null,
   "metadata": {},
   "outputs": [],
   "source": []
  }
 ],
 "metadata": {
  "kernelspec": {
   "display_name": "Python 3",
   "language": "python",
   "name": "python3"
  },
  "language_info": {
   "codemirror_mode": {
    "name": "ipython",
    "version": 3
   },
   "file_extension": ".py",
   "mimetype": "text/x-python",
   "name": "python",
   "nbconvert_exporter": "python",
   "pygments_lexer": "ipython3",
   "version": "3.8.11"
  },
  "orig_nbformat": 4,
  "vscode": {
   "interpreter": {
    "hash": "748f5a99c86f8193ce7076af0118a5165e355f2931bd0f652034077f899fc300"
   }
  }
 },
 "nbformat": 4,
 "nbformat_minor": 2
}
